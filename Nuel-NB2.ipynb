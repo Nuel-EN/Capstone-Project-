{
 "cells": [
  {
   "cell_type": "code",
   "execution_count": 104,
   "metadata": {},
   "outputs": [],
   "source": [
    "#Import package\n",
    "import pandas as pd\n",
    "import nltk\n",
    "from nltk.tokenize import sent_tokenize\n",
    "from nltk.tokenize import word_tokenize\n"
   ]
  },
  {
   "cell_type": "code",
   "execution_count": 105,
   "metadata": {},
   "outputs": [],
   "source": [
    "#load Dataset\n",
    "data_analyst_df = pd.read_csv('/Users/nuel/neuefische/Capstone-Project-/dataset/DataAnalyst.csv')\n",
    "data_scientist_df = pd.read_csv('/Users/nuel/neuefische/Capstone-Project-/dataset/DataScientist.csv')\n",
    "google_job = pd.read_csv('/Users/nuel/neuefische/Capstone-Project-/dataset/gsearch_jobs 3.csv')\n"
   ]
  },
  {
   "cell_type": "code",
   "execution_count": 106,
   "metadata": {},
   "outputs": [],
   "source": [
    "#Rename Columns to lower and replace white spaces with Underscore\n",
    "data_analyst_df.rename(columns=lambda x : x.lower(), inplace=True)\n",
    "data_analyst_df.rename(columns=lambda x : x.replace(' ', '_'), inplace=True)\n",
    "data_scientist_df.rename(columns=lambda x : x.lower(), inplace=True)\n",
    "data_scientist_df.rename(columns=lambda x : x.replace(' ', '_'), inplace=True)\n",
    "google_job.rename(columns=lambda x : x.lower(), inplace=True)\n",
    "google_job.rename(columns=lambda x : x.replace(' ', '_'), inplace=True)\n"
   ]
  },
  {
   "cell_type": "code",
   "execution_count": 107,
   "metadata": {},
   "outputs": [
    {
     "data": {
      "text/html": [
       "<div>\n",
       "<style scoped>\n",
       "    .dataframe tbody tr th:only-of-type {\n",
       "        vertical-align: middle;\n",
       "    }\n",
       "\n",
       "    .dataframe tbody tr th {\n",
       "        vertical-align: top;\n",
       "    }\n",
       "\n",
       "    .dataframe thead th {\n",
       "        text-align: right;\n",
       "    }\n",
       "</style>\n",
       "<table border=\"1\" class=\"dataframe\">\n",
       "  <thead>\n",
       "    <tr style=\"text-align: right;\">\n",
       "      <th></th>\n",
       "      <th>unnamed:_0</th>\n",
       "      <th>index</th>\n",
       "      <th>title</th>\n",
       "      <th>company_name</th>\n",
       "      <th>location</th>\n",
       "      <th>via</th>\n",
       "      <th>description</th>\n",
       "      <th>extensions</th>\n",
       "      <th>job_id</th>\n",
       "      <th>thumbnail</th>\n",
       "      <th>...</th>\n",
       "      <th>commute_time</th>\n",
       "      <th>salary_pay</th>\n",
       "      <th>salary_rate</th>\n",
       "      <th>salary_avg</th>\n",
       "      <th>salary_min</th>\n",
       "      <th>salary_max</th>\n",
       "      <th>salary_hourly</th>\n",
       "      <th>salary_yearly</th>\n",
       "      <th>salary_standardized</th>\n",
       "      <th>description_tokens</th>\n",
       "    </tr>\n",
       "  </thead>\n",
       "  <tbody>\n",
       "    <tr>\n",
       "      <th>0</th>\n",
       "      <td>0</td>\n",
       "      <td>0</td>\n",
       "      <td>Data Analyst</td>\n",
       "      <td>State of Oklahoma</td>\n",
       "      <td>Oklahoma City, OK</td>\n",
       "      <td>via DisABLEDperson.com</td>\n",
       "      <td>Job Posting Title\\nData Analyst\\n...\\nAgency\\n...</td>\n",
       "      <td>['16 hours ago', 'Full-time', 'Health insuranc...</td>\n",
       "      <td>eyJqb2JfdGl0bGUiOiJEYXRhIEFuYWx5c3QiLCJodGlkb2...</td>\n",
       "      <td>https://encrypted-tbn0.gstatic.com/images?q=tb...</td>\n",
       "      <td>...</td>\n",
       "      <td>NaN</td>\n",
       "      <td>NaN</td>\n",
       "      <td>NaN</td>\n",
       "      <td>NaN</td>\n",
       "      <td>NaN</td>\n",
       "      <td>NaN</td>\n",
       "      <td>NaN</td>\n",
       "      <td>NaN</td>\n",
       "      <td>NaN</td>\n",
       "      <td>['go']</td>\n",
       "    </tr>\n",
       "    <tr>\n",
       "      <th>1</th>\n",
       "      <td>1</td>\n",
       "      <td>1</td>\n",
       "      <td>Data Analyst (Marketing)</td>\n",
       "      <td>Entain</td>\n",
       "      <td>United States</td>\n",
       "      <td>via Entain Careers</td>\n",
       "      <td>About The Role\\n\\nAbout Us...\\n\\nWe’re Entain....</td>\n",
       "      <td>['15 hours ago', 'Full-time', 'No degree menti...</td>\n",
       "      <td>eyJqb2JfdGl0bGUiOiJEYXRhIEFuYWx5c3QgKE1hcmtldG...</td>\n",
       "      <td>NaN</td>\n",
       "      <td>...</td>\n",
       "      <td>NaN</td>\n",
       "      <td>NaN</td>\n",
       "      <td>NaN</td>\n",
       "      <td>NaN</td>\n",
       "      <td>NaN</td>\n",
       "      <td>NaN</td>\n",
       "      <td>NaN</td>\n",
       "      <td>NaN</td>\n",
       "      <td>NaN</td>\n",
       "      <td>['sql', 'tableau', 'python', 'r', 'go']</td>\n",
       "    </tr>\n",
       "    <tr>\n",
       "      <th>2</th>\n",
       "      <td>2</td>\n",
       "      <td>2</td>\n",
       "      <td>People Analytics Data Analyst (Talent Acquisit...</td>\n",
       "      <td>General Motors</td>\n",
       "      <td>Topeka, KS</td>\n",
       "      <td>via Kale Jobs</td>\n",
       "      <td>Job Description\\nPeople Analytics CoE (Communi...</td>\n",
       "      <td>['15 hours ago', 'Full-time', 'No degree menti...</td>\n",
       "      <td>eyJqb2JfdGl0bGUiOiJQZW9wbGUgQW5hbHl0aWNzIERhdG...</td>\n",
       "      <td>https://encrypted-tbn0.gstatic.com/images?q=tb...</td>\n",
       "      <td>...</td>\n",
       "      <td>NaN</td>\n",
       "      <td>NaN</td>\n",
       "      <td>NaN</td>\n",
       "      <td>NaN</td>\n",
       "      <td>NaN</td>\n",
       "      <td>NaN</td>\n",
       "      <td>NaN</td>\n",
       "      <td>NaN</td>\n",
       "      <td>NaN</td>\n",
       "      <td>['sql', 'power_bi', 'python', 'r']</td>\n",
       "    </tr>\n",
       "    <tr>\n",
       "      <th>3</th>\n",
       "      <td>3</td>\n",
       "      <td>3</td>\n",
       "      <td>Data Analyst</td>\n",
       "      <td>Pernod Ricard</td>\n",
       "      <td>United States</td>\n",
       "      <td>via Black Fly Media</td>\n",
       "      <td>Pernod Ricard is now hiring Data Analyst in Un...</td>\n",
       "      <td>['15 hours ago', '20 an hour', 'Full-time']</td>\n",
       "      <td>eyJqb2JfdGl0bGUiOiJEYXRhIEFuYWx5c3QiLCJodGlkb2...</td>\n",
       "      <td>NaN</td>\n",
       "      <td>...</td>\n",
       "      <td>NaN</td>\n",
       "      <td>20</td>\n",
       "      <td>an hour</td>\n",
       "      <td>20.0</td>\n",
       "      <td>NaN</td>\n",
       "      <td>NaN</td>\n",
       "      <td>20.0</td>\n",
       "      <td>NaN</td>\n",
       "      <td>41600.0</td>\n",
       "      <td>['sql', 'power_bi', 'jira', 'snowflake', 'pyth...</td>\n",
       "    </tr>\n",
       "    <tr>\n",
       "      <th>4</th>\n",
       "      <td>4</td>\n",
       "      <td>4</td>\n",
       "      <td>Sr Systems Data Analyst</td>\n",
       "      <td>General Dynamics Information Technology</td>\n",
       "      <td>Wichita, KS</td>\n",
       "      <td>via USA Job Spot</td>\n",
       "      <td>Type of Requisition: Regular\\n\\nClearance Leve...</td>\n",
       "      <td>['3 hours ago', 'Full-time']</td>\n",
       "      <td>eyJqb2JfdGl0bGUiOiJTciBTeXN0ZW1zIERhdGEgQW5hbH...</td>\n",
       "      <td>https://encrypted-tbn0.gstatic.com/images?q=tb...</td>\n",
       "      <td>...</td>\n",
       "      <td>NaN</td>\n",
       "      <td>NaN</td>\n",
       "      <td>NaN</td>\n",
       "      <td>NaN</td>\n",
       "      <td>NaN</td>\n",
       "      <td>NaN</td>\n",
       "      <td>NaN</td>\n",
       "      <td>NaN</td>\n",
       "      <td>NaN</td>\n",
       "      <td>['sql', 'tableau', 'python', 'excel', 'r']</td>\n",
       "    </tr>\n",
       "  </tbody>\n",
       "</table>\n",
       "<p>5 rows × 27 columns</p>\n",
       "</div>"
      ],
      "text/plain": [
       "   unnamed:_0  index                                              title  \\\n",
       "0           0      0                                       Data Analyst   \n",
       "1           1      1                           Data Analyst (Marketing)   \n",
       "2           2      2  People Analytics Data Analyst (Talent Acquisit...   \n",
       "3           3      3                                       Data Analyst   \n",
       "4           4      4                            Sr Systems Data Analyst   \n",
       "\n",
       "                              company_name           location  \\\n",
       "0                        State of Oklahoma  Oklahoma City, OK   \n",
       "1                                   Entain      United States   \n",
       "2                           General Motors         Topeka, KS   \n",
       "3                            Pernod Ricard      United States   \n",
       "4  General Dynamics Information Technology        Wichita, KS   \n",
       "\n",
       "                      via                                        description  \\\n",
       "0  via DisABLEDperson.com  Job Posting Title\\nData Analyst\\n...\\nAgency\\n...   \n",
       "1      via Entain Careers  About The Role\\n\\nAbout Us...\\n\\nWe’re Entain....   \n",
       "2           via Kale Jobs  Job Description\\nPeople Analytics CoE (Communi...   \n",
       "3     via Black Fly Media  Pernod Ricard is now hiring Data Analyst in Un...   \n",
       "4        via USA Job Spot  Type of Requisition: Regular\\n\\nClearance Leve...   \n",
       "\n",
       "                                          extensions  \\\n",
       "0  ['16 hours ago', 'Full-time', 'Health insuranc...   \n",
       "1  ['15 hours ago', 'Full-time', 'No degree menti...   \n",
       "2  ['15 hours ago', 'Full-time', 'No degree menti...   \n",
       "3        ['15 hours ago', '20 an hour', 'Full-time']   \n",
       "4                       ['3 hours ago', 'Full-time']   \n",
       "\n",
       "                                              job_id  \\\n",
       "0  eyJqb2JfdGl0bGUiOiJEYXRhIEFuYWx5c3QiLCJodGlkb2...   \n",
       "1  eyJqb2JfdGl0bGUiOiJEYXRhIEFuYWx5c3QgKE1hcmtldG...   \n",
       "2  eyJqb2JfdGl0bGUiOiJQZW9wbGUgQW5hbHl0aWNzIERhdG...   \n",
       "3  eyJqb2JfdGl0bGUiOiJEYXRhIEFuYWx5c3QiLCJodGlkb2...   \n",
       "4  eyJqb2JfdGl0bGUiOiJTciBTeXN0ZW1zIERhdGEgQW5hbH...   \n",
       "\n",
       "                                           thumbnail  ... commute_time  \\\n",
       "0  https://encrypted-tbn0.gstatic.com/images?q=tb...  ...          NaN   \n",
       "1                                                NaN  ...          NaN   \n",
       "2  https://encrypted-tbn0.gstatic.com/images?q=tb...  ...          NaN   \n",
       "3                                                NaN  ...          NaN   \n",
       "4  https://encrypted-tbn0.gstatic.com/images?q=tb...  ...          NaN   \n",
       "\n",
       "  salary_pay salary_rate salary_avg salary_min salary_max salary_hourly  \\\n",
       "0        NaN         NaN        NaN        NaN        NaN           NaN   \n",
       "1        NaN         NaN        NaN        NaN        NaN           NaN   \n",
       "2        NaN         NaN        NaN        NaN        NaN           NaN   \n",
       "3         20     an hour       20.0        NaN        NaN          20.0   \n",
       "4        NaN         NaN        NaN        NaN        NaN           NaN   \n",
       "\n",
       "   salary_yearly salary_standardized  \\\n",
       "0            NaN                 NaN   \n",
       "1            NaN                 NaN   \n",
       "2            NaN                 NaN   \n",
       "3            NaN             41600.0   \n",
       "4            NaN                 NaN   \n",
       "\n",
       "                                  description_tokens  \n",
       "0                                             ['go']  \n",
       "1            ['sql', 'tableau', 'python', 'r', 'go']  \n",
       "2                 ['sql', 'power_bi', 'python', 'r']  \n",
       "3  ['sql', 'power_bi', 'jira', 'snowflake', 'pyth...  \n",
       "4         ['sql', 'tableau', 'python', 'excel', 'r']  \n",
       "\n",
       "[5 rows x 27 columns]"
      ]
     },
     "execution_count": 107,
     "metadata": {},
     "output_type": "execute_result"
    }
   ],
   "source": [
    "#data_analyst_df.head(2)\n",
    "google_job.head()"
   ]
  },
  {
   "cell_type": "code",
   "execution_count": 108,
   "metadata": {},
   "outputs": [],
   "source": [
    "data_analyst_df = data_analyst_df.rename_axis('index').reset_index()"
   ]
  },
  {
   "cell_type": "code",
   "execution_count": 109,
   "metadata": {},
   "outputs": [],
   "source": [
    "data_analyst_df2 = data_analyst_df[['index','job_title', 'job_description']].copy()\n",
    "data_scientist_df2 = data_scientist_df[['index','job_title', 'job_description']].copy()\n",
    "google_job_df2 = google_job[['index','title', 'description']].copy()"
   ]
  },
  {
   "cell_type": "code",
   "execution_count": 110,
   "metadata": {},
   "outputs": [
    {
     "data": {
      "text/html": [
       "<div>\n",
       "<style scoped>\n",
       "    .dataframe tbody tr th:only-of-type {\n",
       "        vertical-align: middle;\n",
       "    }\n",
       "\n",
       "    .dataframe tbody tr th {\n",
       "        vertical-align: top;\n",
       "    }\n",
       "\n",
       "    .dataframe thead th {\n",
       "        text-align: right;\n",
       "    }\n",
       "</style>\n",
       "<table border=\"1\" class=\"dataframe\">\n",
       "  <thead>\n",
       "    <tr style=\"text-align: right;\">\n",
       "      <th></th>\n",
       "      <th>index</th>\n",
       "      <th>job_title</th>\n",
       "      <th>job_description</th>\n",
       "    </tr>\n",
       "  </thead>\n",
       "  <tbody>\n",
       "    <tr>\n",
       "      <th>0</th>\n",
       "      <td>0</td>\n",
       "      <td>Data Analyst, Center on Immigration and Justic...</td>\n",
       "      <td>Are you eager to roll up your sleeves and harn...</td>\n",
       "    </tr>\n",
       "    <tr>\n",
       "      <th>1</th>\n",
       "      <td>1</td>\n",
       "      <td>Quality Data Analyst</td>\n",
       "      <td>Overview\\n\\nProvides analytical and technical ...</td>\n",
       "    </tr>\n",
       "    <tr>\n",
       "      <th>2</th>\n",
       "      <td>2</td>\n",
       "      <td>Senior Data Analyst, Insights &amp; Analytics Team...</td>\n",
       "      <td>We’re looking for a Senior Data Analyst who ha...</td>\n",
       "    </tr>\n",
       "    <tr>\n",
       "      <th>3</th>\n",
       "      <td>3</td>\n",
       "      <td>Data Analyst</td>\n",
       "      <td>Requisition NumberRR-0001939\\nRemote:Yes\\nWe c...</td>\n",
       "    </tr>\n",
       "    <tr>\n",
       "      <th>4</th>\n",
       "      <td>4</td>\n",
       "      <td>Reporting Data Analyst</td>\n",
       "      <td>ABOUT FANDUEL GROUP\\n\\nFanDuel Group is a worl...</td>\n",
       "    </tr>\n",
       "  </tbody>\n",
       "</table>\n",
       "</div>"
      ],
      "text/plain": [
       "   index                                          job_title  \\\n",
       "0      0  Data Analyst, Center on Immigration and Justic...   \n",
       "1      1                               Quality Data Analyst   \n",
       "2      2  Senior Data Analyst, Insights & Analytics Team...   \n",
       "3      3                                       Data Analyst   \n",
       "4      4                             Reporting Data Analyst   \n",
       "\n",
       "                                     job_description  \n",
       "0  Are you eager to roll up your sleeves and harn...  \n",
       "1  Overview\\n\\nProvides analytical and technical ...  \n",
       "2  We’re looking for a Senior Data Analyst who ha...  \n",
       "3  Requisition NumberRR-0001939\\nRemote:Yes\\nWe c...  \n",
       "4  ABOUT FANDUEL GROUP\\n\\nFanDuel Group is a worl...  "
      ]
     },
     "execution_count": 110,
     "metadata": {},
     "output_type": "execute_result"
    }
   ],
   "source": [
    "data_analyst_df2.head()"
   ]
  },
  {
   "cell_type": "code",
   "execution_count": 111,
   "metadata": {},
   "outputs": [],
   "source": [
    "#Join Data Analyst Dataset and Data Scientist Dataset\n",
    "analyst_scientist_df = pd.concat([data_analyst_df2, data_scientist_df2])"
   ]
  },
  {
   "cell_type": "code",
   "execution_count": 112,
   "metadata": {},
   "outputs": [
    {
     "data": {
      "text/html": [
       "<div>\n",
       "<style scoped>\n",
       "    .dataframe tbody tr th:only-of-type {\n",
       "        vertical-align: middle;\n",
       "    }\n",
       "\n",
       "    .dataframe tbody tr th {\n",
       "        vertical-align: top;\n",
       "    }\n",
       "\n",
       "    .dataframe thead th {\n",
       "        text-align: right;\n",
       "    }\n",
       "</style>\n",
       "<table border=\"1\" class=\"dataframe\">\n",
       "  <thead>\n",
       "    <tr style=\"text-align: right;\">\n",
       "      <th></th>\n",
       "      <th>index</th>\n",
       "      <th>job_title</th>\n",
       "      <th>job_description</th>\n",
       "    </tr>\n",
       "  </thead>\n",
       "  <tbody>\n",
       "    <tr>\n",
       "      <th>0</th>\n",
       "      <td>0</td>\n",
       "      <td>Data Analyst, Center on Immigration and Justic...</td>\n",
       "      <td>Are you eager to roll up your sleeves and harn...</td>\n",
       "    </tr>\n",
       "    <tr>\n",
       "      <th>1</th>\n",
       "      <td>1</td>\n",
       "      <td>Quality Data Analyst</td>\n",
       "      <td>Overview\\n\\nProvides analytical and technical ...</td>\n",
       "    </tr>\n",
       "    <tr>\n",
       "      <th>2</th>\n",
       "      <td>2</td>\n",
       "      <td>Senior Data Analyst, Insights &amp; Analytics Team...</td>\n",
       "      <td>We’re looking for a Senior Data Analyst who ha...</td>\n",
       "    </tr>\n",
       "    <tr>\n",
       "      <th>3</th>\n",
       "      <td>3</td>\n",
       "      <td>Data Analyst</td>\n",
       "      <td>Requisition NumberRR-0001939\\nRemote:Yes\\nWe c...</td>\n",
       "    </tr>\n",
       "    <tr>\n",
       "      <th>4</th>\n",
       "      <td>4</td>\n",
       "      <td>Reporting Data Analyst</td>\n",
       "      <td>ABOUT FANDUEL GROUP\\n\\nFanDuel Group is a worl...</td>\n",
       "    </tr>\n",
       "  </tbody>\n",
       "</table>\n",
       "</div>"
      ],
      "text/plain": [
       "   index                                          job_title  \\\n",
       "0      0  Data Analyst, Center on Immigration and Justic...   \n",
       "1      1                               Quality Data Analyst   \n",
       "2      2  Senior Data Analyst, Insights & Analytics Team...   \n",
       "3      3                                       Data Analyst   \n",
       "4      4                             Reporting Data Analyst   \n",
       "\n",
       "                                     job_description  \n",
       "0  Are you eager to roll up your sleeves and harn...  \n",
       "1  Overview\\n\\nProvides analytical and technical ...  \n",
       "2  We’re looking for a Senior Data Analyst who ha...  \n",
       "3  Requisition NumberRR-0001939\\nRemote:Yes\\nWe c...  \n",
       "4  ABOUT FANDUEL GROUP\\n\\nFanDuel Group is a worl...  "
      ]
     },
     "execution_count": 112,
     "metadata": {},
     "output_type": "execute_result"
    }
   ],
   "source": [
    "analyst_scientist_df.head()"
   ]
  },
  {
   "cell_type": "code",
   "execution_count": 113,
   "metadata": {},
   "outputs": [],
   "source": [
    "#lets rename columns of the google job dataset\n",
    "google_job_df2 = google_job_df2.rename(columns={'title': 'job_title', 'description': 'job_description'})"
   ]
  },
  {
   "cell_type": "code",
   "execution_count": 114,
   "metadata": {},
   "outputs": [],
   "source": [
    "#join google dataset to the data analyst /scientist dataset\n",
    "master_df = pd.concat([analyst_scientist_df, google_job_df2])"
   ]
  },
  {
   "cell_type": "code",
   "execution_count": 115,
   "metadata": {},
   "outputs": [
    {
     "data": {
      "text/html": [
       "<div>\n",
       "<style scoped>\n",
       "    .dataframe tbody tr th:only-of-type {\n",
       "        vertical-align: middle;\n",
       "    }\n",
       "\n",
       "    .dataframe tbody tr th {\n",
       "        vertical-align: top;\n",
       "    }\n",
       "\n",
       "    .dataframe thead th {\n",
       "        text-align: right;\n",
       "    }\n",
       "</style>\n",
       "<table border=\"1\" class=\"dataframe\">\n",
       "  <thead>\n",
       "    <tr style=\"text-align: right;\">\n",
       "      <th></th>\n",
       "      <th>index</th>\n",
       "      <th>job_title</th>\n",
       "      <th>job_description</th>\n",
       "    </tr>\n",
       "  </thead>\n",
       "  <tbody>\n",
       "    <tr>\n",
       "      <th>0</th>\n",
       "      <td>0</td>\n",
       "      <td>Data Analyst, Center on Immigration and Justic...</td>\n",
       "      <td>Are you eager to roll up your sleeves and harn...</td>\n",
       "    </tr>\n",
       "    <tr>\n",
       "      <th>1</th>\n",
       "      <td>1</td>\n",
       "      <td>Quality Data Analyst</td>\n",
       "      <td>Overview\\n\\nProvides analytical and technical ...</td>\n",
       "    </tr>\n",
       "    <tr>\n",
       "      <th>2</th>\n",
       "      <td>2</td>\n",
       "      <td>Senior Data Analyst, Insights &amp; Analytics Team...</td>\n",
       "      <td>We’re looking for a Senior Data Analyst who ha...</td>\n",
       "    </tr>\n",
       "    <tr>\n",
       "      <th>3</th>\n",
       "      <td>3</td>\n",
       "      <td>Data Analyst</td>\n",
       "      <td>Requisition NumberRR-0001939\\nRemote:Yes\\nWe c...</td>\n",
       "    </tr>\n",
       "    <tr>\n",
       "      <th>4</th>\n",
       "      <td>4</td>\n",
       "      <td>Reporting Data Analyst</td>\n",
       "      <td>ABOUT FANDUEL GROUP\\n\\nFanDuel Group is a worl...</td>\n",
       "    </tr>\n",
       "  </tbody>\n",
       "</table>\n",
       "</div>"
      ],
      "text/plain": [
       "   index                                          job_title  \\\n",
       "0      0  Data Analyst, Center on Immigration and Justic...   \n",
       "1      1                               Quality Data Analyst   \n",
       "2      2  Senior Data Analyst, Insights & Analytics Team...   \n",
       "3      3                                       Data Analyst   \n",
       "4      4                             Reporting Data Analyst   \n",
       "\n",
       "                                     job_description  \n",
       "0  Are you eager to roll up your sleeves and harn...  \n",
       "1  Overview\\n\\nProvides analytical and technical ...  \n",
       "2  We’re looking for a Senior Data Analyst who ha...  \n",
       "3  Requisition NumberRR-0001939\\nRemote:Yes\\nWe c...  \n",
       "4  ABOUT FANDUEL GROUP\\n\\nFanDuel Group is a worl...  "
      ]
     },
     "execution_count": 115,
     "metadata": {},
     "output_type": "execute_result"
    }
   ],
   "source": [
    "master_df.head()"
   ]
  },
  {
   "cell_type": "code",
   "execution_count": null,
   "metadata": {},
   "outputs": [],
   "source": [
    "#master_df = master_df.reset_index()"
   ]
  },
  {
   "cell_type": "code",
   "execution_count": 116,
   "metadata": {},
   "outputs": [
    {
     "name": "stdout",
     "output_type": "stream",
     "text": [
      "<class 'pandas.core.frame.DataFrame'>\n",
      "Int64Index: 8132 entries, 0 to 1969\n",
      "Data columns (total 3 columns):\n",
      " #   Column           Non-Null Count  Dtype \n",
      "---  ------           --------------  ----- \n",
      " 0   index            8132 non-null   int64 \n",
      " 1   job_title        8132 non-null   object\n",
      " 2   job_description  8132 non-null   object\n",
      "dtypes: int64(1), object(2)\n",
      "memory usage: 254.1+ KB\n"
     ]
    }
   ],
   "source": [
    "master_df.info()"
   ]
  },
  {
   "cell_type": "code",
   "execution_count": 117,
   "metadata": {},
   "outputs": [
    {
     "data": {
      "text/html": [
       "<div>\n",
       "<style scoped>\n",
       "    .dataframe tbody tr th:only-of-type {\n",
       "        vertical-align: middle;\n",
       "    }\n",
       "\n",
       "    .dataframe tbody tr th {\n",
       "        vertical-align: top;\n",
       "    }\n",
       "\n",
       "    .dataframe thead th {\n",
       "        text-align: right;\n",
       "    }\n",
       "</style>\n",
       "<table border=\"1\" class=\"dataframe\">\n",
       "  <thead>\n",
       "    <tr style=\"text-align: right;\">\n",
       "      <th></th>\n",
       "      <th>index</th>\n",
       "      <th>job_title</th>\n",
       "      <th>job_description</th>\n",
       "    </tr>\n",
       "  </thead>\n",
       "  <tbody>\n",
       "    <tr>\n",
       "      <th>0</th>\n",
       "      <td>0</td>\n",
       "      <td>Data Analyst, Center on Immigration and Justic...</td>\n",
       "      <td>Are you eager to roll up your sleeves and harn...</td>\n",
       "    </tr>\n",
       "    <tr>\n",
       "      <th>1</th>\n",
       "      <td>1</td>\n",
       "      <td>Quality Data Analyst</td>\n",
       "      <td>Overview\\n\\nProvides analytical and technical ...</td>\n",
       "    </tr>\n",
       "    <tr>\n",
       "      <th>2</th>\n",
       "      <td>2</td>\n",
       "      <td>Senior Data Analyst, Insights &amp; Analytics Team...</td>\n",
       "      <td>We’re looking for a Senior Data Analyst who ha...</td>\n",
       "    </tr>\n",
       "    <tr>\n",
       "      <th>3</th>\n",
       "      <td>3</td>\n",
       "      <td>Data Analyst</td>\n",
       "      <td>Requisition NumberRR-0001939\\nRemote:Yes\\nWe c...</td>\n",
       "    </tr>\n",
       "    <tr>\n",
       "      <th>4</th>\n",
       "      <td>4</td>\n",
       "      <td>Reporting Data Analyst</td>\n",
       "      <td>ABOUT FANDUEL GROUP\\n\\nFanDuel Group is a worl...</td>\n",
       "    </tr>\n",
       "  </tbody>\n",
       "</table>\n",
       "</div>"
      ],
      "text/plain": [
       "   index                                          job_title  \\\n",
       "0      0  Data Analyst, Center on Immigration and Justic...   \n",
       "1      1                               Quality Data Analyst   \n",
       "2      2  Senior Data Analyst, Insights & Analytics Team...   \n",
       "3      3                                       Data Analyst   \n",
       "4      4                             Reporting Data Analyst   \n",
       "\n",
       "                                     job_description  \n",
       "0  Are you eager to roll up your sleeves and harn...  \n",
       "1  Overview\\n\\nProvides analytical and technical ...  \n",
       "2  We’re looking for a Senior Data Analyst who ha...  \n",
       "3  Requisition NumberRR-0001939\\nRemote:Yes\\nWe c...  \n",
       "4  ABOUT FANDUEL GROUP\\n\\nFanDuel Group is a worl...  "
      ]
     },
     "execution_count": 117,
     "metadata": {},
     "output_type": "execute_result"
    }
   ],
   "source": [
    "master_df.head()"
   ]
  },
  {
   "cell_type": "code",
   "execution_count": null,
   "metadata": {},
   "outputs": [],
   "source": [
    "#Tokenization"
   ]
  },
  {
   "cell_type": "code",
   "execution_count": 118,
   "metadata": {},
   "outputs": [],
   "source": [
    "#job title column to lower case\n",
    "master_df.job_title = master_df.job_title.str.lower()"
   ]
  },
  {
   "cell_type": "code",
   "execution_count": 119,
   "metadata": {},
   "outputs": [
    {
     "data": {
      "text/plain": [
       "0    [data, analyst, ,, center, on, immigration, an...\n",
       "1                             [quality, data, analyst]\n",
       "2    [senior, data, analyst, ,, insights, &, analyt...\n",
       "3                                      [data, analyst]\n",
       "4                           [reporting, data, analyst]\n",
       "Name: job_title_split, dtype: object"
      ]
     },
     "execution_count": 119,
     "metadata": {},
     "output_type": "execute_result"
    }
   ],
   "source": [
    "#job title column: text to word\n",
    "master_df['job_title_split'] = master_df['job_title'].apply(word_tokenize)\n",
    "master_df.job_title_split.head()"
   ]
  },
  {
   "cell_type": "code",
   "execution_count": 120,
   "metadata": {},
   "outputs": [],
   "source": [
    "my_keywords = ['data', 'scientist', 'analytics', 'analyst', 'science' ]\n"
   ]
  },
  {
   "cell_type": "code",
   "execution_count": 121,
   "metadata": {},
   "outputs": [],
   "source": [
    "master_df['job_title_split'] = (master_df['job_title_split'].apply(lambda x: [title for title in x if title in my_keywords]))\n"
   ]
  },
  {
   "cell_type": "code",
   "execution_count": 122,
   "metadata": {},
   "outputs": [
    {
     "data": {
      "text/plain": [
       "0               [data, analyst]\n",
       "1               [data, analyst]\n",
       "2    [data, analyst, analytics]\n",
       "3               [data, analyst]\n",
       "4               [data, analyst]\n",
       "Name: job_title_split, dtype: object"
      ]
     },
     "execution_count": 122,
     "metadata": {},
     "output_type": "execute_result"
    }
   ],
   "source": [
    "master_df.job_title_split.head()"
   ]
  },
  {
   "cell_type": "code",
   "execution_count": 123,
   "metadata": {},
   "outputs": [],
   "source": [
    "master_df['job_title_split']=master_df.job_title_split.apply(lambda x: ' '.join(list(x)))"
   ]
  },
  {
   "cell_type": "code",
   "execution_count": 124,
   "metadata": {},
   "outputs": [
    {
     "data": {
      "text/plain": [
       "0              data analyst\n",
       "1              data analyst\n",
       "2    data analyst analytics\n",
       "3              data analyst\n",
       "4              data analyst\n",
       "Name: job_title_split, dtype: object"
      ]
     },
     "execution_count": 124,
     "metadata": {},
     "output_type": "execute_result"
    }
   ],
   "source": [
    "master_df.job_title_split.head()"
   ]
  },
  {
   "cell_type": "code",
   "execution_count": 125,
   "metadata": {},
   "outputs": [
    {
     "data": {
      "text/plain": [
       "array(['data analyst', 'data analyst analytics', 'analyst',\n",
       "       'data science analyst', 'data', 'analyst data science',\n",
       "       'data science', 'analyst data',\n",
       "       'data scientist data analytics analyst', 'data analyst data data',\n",
       "       'data analyst data', 'science data analyst',\n",
       "       'data analytics analyst', 'analytics data analyst', '',\n",
       "       'analyst data analyst', 'analyst data analytics',\n",
       "       'data analyst scientist', 'data data analyst',\n",
       "       'data analyst analyst', 'data scientist', 'data data analyst data',\n",
       "       'analyst data science analytics',\n",
       "       'data analyst analytics data analytics', 'data scientist analyst',\n",
       "       'analyst data analytics data analyst',\n",
       "       'data analyst data analytics',\n",
       "       'data analyst data science analytics', 'analyst data data',\n",
       "       'data analyst data analytics analytics',\n",
       "       'data analyst data science', 'data analytics',\n",
       "       'scientist data analyst', 'data analyst data analyst',\n",
       "       'analytics analyst data', 'analyst analytics', 'data data',\n",
       "       'analyst data scientist', 'analyst analyst data',\n",
       "       'data scientist analytics', 'scientist',\n",
       "       'data scientist data science', 'data data scientist',\n",
       "       'analytics data scientist', 'analytics', 'data scientist data',\n",
       "       'data scientist analytics data', 'scientist data analytics',\n",
       "       'data science analytics', 'analytics data',\n",
       "       'data science data science', 'data science data scientist',\n",
       "       'data scientist data science analytics', 'scientist data',\n",
       "       'scientist scientist', 'scientist science',\n",
       "       'scientist data science', 'science scientist',\n",
       "       'analytics data science', 'data scientist data analytics',\n",
       "       'science data scientist', 'data scientist scientist',\n",
       "       'data analyst science', 'data data analytics', 'science',\n",
       "       'analytics science', 'scientist scientist data',\n",
       "       'analyst scientist', 'scientist scientist science',\n",
       "       'data data science data', 'analyst analyst',\n",
       "       'data scientist data scientist', 'scientist analytics',\n",
       "       'data data science', 'science data science',\n",
       "       'analytics data analytics', 'data scientist science',\n",
       "       'data analytics data scientist', 'data science data',\n",
       "       'data analytics data', 'data analyst data scientist',\n",
       "       'analytics analyst', 'analyst analyst data analyst'], dtype=object)"
      ]
     },
     "execution_count": 125,
     "metadata": {},
     "output_type": "execute_result"
    }
   ],
   "source": [
    "master_df.job_title_split.unique()"
   ]
  },
  {
   "cell_type": "code",
   "execution_count": 126,
   "metadata": {},
   "outputs": [],
   "source": [
    "master_df['adv_job_title'] = master_df.job_title_split"
   ]
  },
  {
   "cell_type": "code",
   "execution_count": 127,
   "metadata": {},
   "outputs": [
    {
     "data": {
      "text/html": [
       "<div>\n",
       "<style scoped>\n",
       "    .dataframe tbody tr th:only-of-type {\n",
       "        vertical-align: middle;\n",
       "    }\n",
       "\n",
       "    .dataframe tbody tr th {\n",
       "        vertical-align: top;\n",
       "    }\n",
       "\n",
       "    .dataframe thead th {\n",
       "        text-align: right;\n",
       "    }\n",
       "</style>\n",
       "<table border=\"1\" class=\"dataframe\">\n",
       "  <thead>\n",
       "    <tr style=\"text-align: right;\">\n",
       "      <th></th>\n",
       "      <th>index</th>\n",
       "      <th>job_title</th>\n",
       "      <th>job_description</th>\n",
       "      <th>job_title_split</th>\n",
       "      <th>adv_job_title</th>\n",
       "    </tr>\n",
       "  </thead>\n",
       "  <tbody>\n",
       "    <tr>\n",
       "      <th>0</th>\n",
       "      <td>0</td>\n",
       "      <td>data analyst, center on immigration and justic...</td>\n",
       "      <td>Are you eager to roll up your sleeves and harn...</td>\n",
       "      <td>data analyst</td>\n",
       "      <td>data analyst</td>\n",
       "    </tr>\n",
       "    <tr>\n",
       "      <th>1</th>\n",
       "      <td>1</td>\n",
       "      <td>quality data analyst</td>\n",
       "      <td>Overview\\n\\nProvides analytical and technical ...</td>\n",
       "      <td>data analyst</td>\n",
       "      <td>data analyst</td>\n",
       "    </tr>\n",
       "    <tr>\n",
       "      <th>2</th>\n",
       "      <td>2</td>\n",
       "      <td>senior data analyst, insights &amp; analytics team...</td>\n",
       "      <td>We’re looking for a Senior Data Analyst who ha...</td>\n",
       "      <td>data analyst analytics</td>\n",
       "      <td>data analyst analytics</td>\n",
       "    </tr>\n",
       "    <tr>\n",
       "      <th>3</th>\n",
       "      <td>3</td>\n",
       "      <td>data analyst</td>\n",
       "      <td>Requisition NumberRR-0001939\\nRemote:Yes\\nWe c...</td>\n",
       "      <td>data analyst</td>\n",
       "      <td>data analyst</td>\n",
       "    </tr>\n",
       "    <tr>\n",
       "      <th>4</th>\n",
       "      <td>4</td>\n",
       "      <td>reporting data analyst</td>\n",
       "      <td>ABOUT FANDUEL GROUP\\n\\nFanDuel Group is a worl...</td>\n",
       "      <td>data analyst</td>\n",
       "      <td>data analyst</td>\n",
       "    </tr>\n",
       "  </tbody>\n",
       "</table>\n",
       "</div>"
      ],
      "text/plain": [
       "   index                                          job_title  \\\n",
       "0      0  data analyst, center on immigration and justic...   \n",
       "1      1                               quality data analyst   \n",
       "2      2  senior data analyst, insights & analytics team...   \n",
       "3      3                                       data analyst   \n",
       "4      4                             reporting data analyst   \n",
       "\n",
       "                                     job_description         job_title_split  \\\n",
       "0  Are you eager to roll up your sleeves and harn...            data analyst   \n",
       "1  Overview\\n\\nProvides analytical and technical ...            data analyst   \n",
       "2  We’re looking for a Senior Data Analyst who ha...  data analyst analytics   \n",
       "3  Requisition NumberRR-0001939\\nRemote:Yes\\nWe c...            data analyst   \n",
       "4  ABOUT FANDUEL GROUP\\n\\nFanDuel Group is a worl...            data analyst   \n",
       "\n",
       "            adv_job_title  \n",
       "0            data analyst  \n",
       "1            data analyst  \n",
       "2  data analyst analytics  \n",
       "3            data analyst  \n",
       "4            data analyst  "
      ]
     },
     "execution_count": 127,
     "metadata": {},
     "output_type": "execute_result"
    }
   ],
   "source": [
    "master_df.head()"
   ]
  },
  {
   "cell_type": "markdown",
   "metadata": {},
   "source": [
    "job titles with no words in the keyword list or that returns data only after splitting would be classified as others.\n",
    "job titles that returns words like data analyst data scientist, data analytics data scientist, data science analytics will be classified as data analyst scientist"
   ]
  },
  {
   "cell_type": "code",
   "execution_count": 128,
   "metadata": {},
   "outputs": [],
   "source": [
    "#to replace key words\n",
    "master_df['adv_job_title'] = master_df['adv_job_title'].replace(['data analyst', 'data analyst analytics', 'analyst',\n",
    "       'analyst data',\n",
    "        'data analyst data data',\n",
    "       'data analyst data', 'science data analyst',\n",
    "       'data analytics analyst', 'analytics data analyst',\n",
    "       'analyst data analyst', 'analyst data analytics',\n",
    "       'data data analyst',\n",
    "       'data analyst analyst', 'data data analyst data',\n",
    "       'data analyst analytics data analytics',\n",
    "       'analyst data analytics data analyst',\n",
    "       'data analyst data analytics', 'analyst data data',\n",
    "       'data analyst data analytics analytics',\n",
    "       'data analytics', 'data analyst data analyst',\n",
    "       'analytics analyst data', 'analyst analytics', 'data data',\n",
    "       'analyst analyst data',\n",
    "       'analytics', 'analytics data',\n",
    "       'analytics data analytics',\n",
    "       'data analytics data',\n",
    "       'analytics analyst', 'analyst analyst data analyst',\n",
    "       'data data analytics','analyst analyst'], 'data analyst')"
   ]
  },
  {
   "cell_type": "code",
   "execution_count": 129,
   "metadata": {},
   "outputs": [],
   "source": [
    "#to replace key words\n",
    "master_df['adv_job_title'] = master_df['adv_job_title'].replace([\n",
    "       'data science',\n",
    "       'data scientist', 'scientist',\n",
    "       'data scientist data science', 'data data scientist',\n",
    "       'data scientist data',\n",
    "       'data science data science', 'data science data scientist', 'data data science', 'science data science',\n",
    "       'data scientist science',\n",
    "       'data science data',\n",
    "       'scientist data', 'scientist scientist', 'scientist science',\n",
    "       'scientist data science', 'science scientist',\n",
    "       'science data scientist', 'data scientist scientist',\n",
    "       'scientist scientist data',\n",
    "       'scientist scientist science',\n",
    "       'data data science data',\n",
    "       'data scientist data scientist'],'data scientist')"
   ]
  },
  {
   "cell_type": "code",
   "execution_count": 130,
   "metadata": {},
   "outputs": [],
   "source": [
    "#to replace key words\n",
    "master_df['adv_job_title'] = master_df['adv_job_title'].replace(['', 'data', 'data data',\n",
    "'science',],'others')"
   ]
  },
  {
   "cell_type": "code",
   "execution_count": 131,
   "metadata": {},
   "outputs": [],
   "source": [
    "#to replace key words\n",
    "master_df['adv_job_title'] = master_df['adv_job_title'].replace([\n",
    "       'data science analyst', 'analyst data science',\n",
    "       'science data analyst',\n",
    "       'analyst data science analytics',\n",
    "       'data analyst data science analytics',\n",
    "       'data analyst data science', \n",
    "       'data science analytics', 'data analyst data science analytics',\n",
    "       \n",
    "       'analytics data science',\n",
    "       'data analyst science',\n",
    "       'analytics science' \n",
    "       ],'data science analyst')"
   ]
  },
  {
   "cell_type": "code",
   "execution_count": 132,
   "metadata": {},
   "outputs": [],
   "source": [
    "#to replace key words\n",
    "master_df['adv_job_title'] = master_df['adv_job_title'].replace([\n",
    "       'data scientist data analytics analyst',\n",
    "       'data analyst scientist', 'data scientist analyst',\n",
    "       'scientist data analyst', \n",
    "       'analyst data scientist',\n",
    "       'data scientist analytics',\n",
    "       'analytics data scientist', \n",
    "       'data scientist analytics data', 'scientist data analytics',\n",
    "       'data analytics data scientist', 'data analyst data scientist',\n",
    "       'data scientist data science analytics',\n",
    "       'analytics data science', 'data scientist data analytics',\n",
    "       'analyst scientist', 'scientist analytics'],'data scientist analyst')"
   ]
  },
  {
   "cell_type": "code",
   "execution_count": 133,
   "metadata": {},
   "outputs": [
    {
     "data": {
      "text/html": [
       "<div>\n",
       "<style scoped>\n",
       "    .dataframe tbody tr th:only-of-type {\n",
       "        vertical-align: middle;\n",
       "    }\n",
       "\n",
       "    .dataframe tbody tr th {\n",
       "        vertical-align: top;\n",
       "    }\n",
       "\n",
       "    .dataframe thead th {\n",
       "        text-align: right;\n",
       "    }\n",
       "</style>\n",
       "<table border=\"1\" class=\"dataframe\">\n",
       "  <thead>\n",
       "    <tr style=\"text-align: right;\">\n",
       "      <th></th>\n",
       "      <th>index</th>\n",
       "      <th>job_title</th>\n",
       "      <th>job_description</th>\n",
       "      <th>job_title_split</th>\n",
       "      <th>adv_job_title</th>\n",
       "    </tr>\n",
       "  </thead>\n",
       "  <tbody>\n",
       "    <tr>\n",
       "      <th>0</th>\n",
       "      <td>0</td>\n",
       "      <td>data analyst, center on immigration and justic...</td>\n",
       "      <td>Are you eager to roll up your sleeves and harn...</td>\n",
       "      <td>data analyst</td>\n",
       "      <td>data analyst</td>\n",
       "    </tr>\n",
       "    <tr>\n",
       "      <th>1</th>\n",
       "      <td>1</td>\n",
       "      <td>quality data analyst</td>\n",
       "      <td>Overview\\n\\nProvides analytical and technical ...</td>\n",
       "      <td>data analyst</td>\n",
       "      <td>data analyst</td>\n",
       "    </tr>\n",
       "    <tr>\n",
       "      <th>2</th>\n",
       "      <td>2</td>\n",
       "      <td>senior data analyst, insights &amp; analytics team...</td>\n",
       "      <td>We’re looking for a Senior Data Analyst who ha...</td>\n",
       "      <td>data analyst analytics</td>\n",
       "      <td>data analyst</td>\n",
       "    </tr>\n",
       "    <tr>\n",
       "      <th>3</th>\n",
       "      <td>3</td>\n",
       "      <td>data analyst</td>\n",
       "      <td>Requisition NumberRR-0001939\\nRemote:Yes\\nWe c...</td>\n",
       "      <td>data analyst</td>\n",
       "      <td>data analyst</td>\n",
       "    </tr>\n",
       "    <tr>\n",
       "      <th>4</th>\n",
       "      <td>4</td>\n",
       "      <td>reporting data analyst</td>\n",
       "      <td>ABOUT FANDUEL GROUP\\n\\nFanDuel Group is a worl...</td>\n",
       "      <td>data analyst</td>\n",
       "      <td>data analyst</td>\n",
       "    </tr>\n",
       "  </tbody>\n",
       "</table>\n",
       "</div>"
      ],
      "text/plain": [
       "   index                                          job_title  \\\n",
       "0      0  data analyst, center on immigration and justic...   \n",
       "1      1                               quality data analyst   \n",
       "2      2  senior data analyst, insights & analytics team...   \n",
       "3      3                                       data analyst   \n",
       "4      4                             reporting data analyst   \n",
       "\n",
       "                                     job_description         job_title_split  \\\n",
       "0  Are you eager to roll up your sleeves and harn...            data analyst   \n",
       "1  Overview\\n\\nProvides analytical and technical ...            data analyst   \n",
       "2  We’re looking for a Senior Data Analyst who ha...  data analyst analytics   \n",
       "3  Requisition NumberRR-0001939\\nRemote:Yes\\nWe c...            data analyst   \n",
       "4  ABOUT FANDUEL GROUP\\n\\nFanDuel Group is a worl...            data analyst   \n",
       "\n",
       "  adv_job_title  \n",
       "0  data analyst  \n",
       "1  data analyst  \n",
       "2  data analyst  \n",
       "3  data analyst  \n",
       "4  data analyst  "
      ]
     },
     "execution_count": 133,
     "metadata": {},
     "output_type": "execute_result"
    }
   ],
   "source": [
    "master_df.head()"
   ]
  },
  {
   "cell_type": "code",
   "execution_count": 134,
   "metadata": {},
   "outputs": [
    {
     "data": {
      "text/plain": [
       "array(['data analyst', 'data science analyst', 'others', 'data scientist',\n",
       "       'data scientist analyst'], dtype=object)"
      ]
     },
     "execution_count": 134,
     "metadata": {},
     "output_type": "execute_result"
    }
   ],
   "source": [
    "master_df.adv_job_title.unique()"
   ]
  },
  {
   "cell_type": "code",
   "execution_count": 136,
   "metadata": {},
   "outputs": [
    {
     "data": {
      "text/html": [
       "<div>\n",
       "<style scoped>\n",
       "    .dataframe tbody tr th:only-of-type {\n",
       "        vertical-align: middle;\n",
       "    }\n",
       "\n",
       "    .dataframe tbody tr th {\n",
       "        vertical-align: top;\n",
       "    }\n",
       "\n",
       "    .dataframe thead th {\n",
       "        text-align: right;\n",
       "    }\n",
       "</style>\n",
       "<table border=\"1\" class=\"dataframe\">\n",
       "  <thead>\n",
       "    <tr style=\"text-align: right;\">\n",
       "      <th></th>\n",
       "      <th>index</th>\n",
       "      <th>job_title</th>\n",
       "      <th>job_description</th>\n",
       "      <th>job_title_split</th>\n",
       "    </tr>\n",
       "    <tr>\n",
       "      <th>adv_job_title</th>\n",
       "      <th></th>\n",
       "      <th></th>\n",
       "      <th></th>\n",
       "      <th></th>\n",
       "    </tr>\n",
       "  </thead>\n",
       "  <tbody>\n",
       "    <tr>\n",
       "      <th>data analyst</th>\n",
       "      <td>4734</td>\n",
       "      <td>4734</td>\n",
       "      <td>4734</td>\n",
       "      <td>4734</td>\n",
       "    </tr>\n",
       "    <tr>\n",
       "      <th>data science analyst</th>\n",
       "      <td>57</td>\n",
       "      <td>57</td>\n",
       "      <td>57</td>\n",
       "      <td>57</td>\n",
       "    </tr>\n",
       "    <tr>\n",
       "      <th>data scientist</th>\n",
       "      <td>1748</td>\n",
       "      <td>1748</td>\n",
       "      <td>1748</td>\n",
       "      <td>1748</td>\n",
       "    </tr>\n",
       "    <tr>\n",
       "      <th>data scientist analyst</th>\n",
       "      <td>98</td>\n",
       "      <td>98</td>\n",
       "      <td>98</td>\n",
       "      <td>98</td>\n",
       "    </tr>\n",
       "    <tr>\n",
       "      <th>others</th>\n",
       "      <td>1495</td>\n",
       "      <td>1495</td>\n",
       "      <td>1495</td>\n",
       "      <td>1495</td>\n",
       "    </tr>\n",
       "  </tbody>\n",
       "</table>\n",
       "</div>"
      ],
      "text/plain": [
       "                        index  job_title  job_description  job_title_split\n",
       "adv_job_title                                                             \n",
       "data analyst             4734       4734             4734             4734\n",
       "data science analyst       57         57               57               57\n",
       "data scientist           1748       1748             1748             1748\n",
       "data scientist analyst     98         98               98               98\n",
       "others                   1495       1495             1495             1495"
      ]
     },
     "execution_count": 136,
     "metadata": {},
     "output_type": "execute_result"
    }
   ],
   "source": [
    "master_df.groupby(master_df['adv_job_title']).count()"
   ]
  },
  {
   "cell_type": "code",
   "execution_count": 137,
   "metadata": {},
   "outputs": [
    {
     "data": {
      "text/plain": [
       "<AxesSubplot:xlabel='adv_job_title'>"
      ]
     },
     "execution_count": 137,
     "metadata": {},
     "output_type": "execute_result"
    },
    {
     "data": {
      "image/png": "[encoded data removed]",
      "text/plain": [
       "<Figure size 640x480 with 1 Axes>"
      ]
     },
     "metadata": {},
     "output_type": "display_data"
    }
   ],
   "source": [
    "master_df.groupby(master_df['adv_job_title']).count().plot()"
   ]
  },
  {
   "cell_type": "code",
   "execution_count": null,
   "metadata": {},
   "outputs": [],
   "source": []
  }
 ],
 "metadata": {
  "kernelspec": {
   "display_name": "Python 3.9.13 ('nf_sql')",
   "language": "python",
   "name": "python3"
  },
  "language_info": {
   "codemirror_mode": {
    "name": "ipython",
    "version": 3
   },
   "file_extension": ".py",
   "mimetype": "text/x-python",
   "name": "python",
   "nbconvert_exporter": "python",
   "pygments_lexer": "ipython3",
   "version": "3.9.13"
  },
  "orig_nbformat": 4,
  "vscode": {
   "interpreter": {
    "hash": "a81d278bed5b5b59425dcb5a82ce505657686243c184b4a6b67e69d01c4d432e"
   }
  }
 },
 "nbformat": 4,
 "nbformat_minor": 2
}
